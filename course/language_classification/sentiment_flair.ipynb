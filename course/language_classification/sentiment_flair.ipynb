{
 "cells": [
  {
   "cell_type": "code",
   "execution_count": 3,
   "metadata": {},
   "outputs": [
    {
     "name": "stdout",
     "output_type": "stream",
     "text": [
      "^C\n"
     ]
    },
    {
     "name": "stdout",
     "output_type": "stream",
     "text": [
      "Requirement already satisfied: flair in e:\\anaconda3\\envs\\cudaml\\lib\\site-packages (0.12.2)\n",
      "Requirement already satisfied: python-dateutil>=2.6.1 in e:\\anaconda3\\envs\\cudaml\\lib\\site-packages (from flair) (2.8.2)\n",
      "Requirement already satisfied: torch!=1.8,>=1.5.0 in e:\\anaconda3\\envs\\cudaml\\lib\\site-packages (from flair) (2.0.1)\n",
      "Requirement already satisfied: gensim>=3.8.0 in e:\\anaconda3\\envs\\cudaml\\lib\\site-packages (from flair) (4.3.1)\n",
      "Requirement already satisfied: tqdm>=4.26.0 in e:\\anaconda3\\envs\\cudaml\\lib\\site-packages (from flair) (4.65.0)\n",
      "Requirement already satisfied: segtok>=1.5.7 in e:\\anaconda3\\envs\\cudaml\\lib\\site-packages (from flair) (1.5.11)\n",
      "Requirement already satisfied: matplotlib>=2.2.3 in e:\\anaconda3\\envs\\cudaml\\lib\\site-packages (from flair) (3.7.2)\n",
      "Requirement already satisfied: mpld3==0.3 in e:\\anaconda3\\envs\\cudaml\\lib\\site-packages (from flair) (0.3)\n",
      "Requirement already satisfied: scikit-learn>=0.21.3 in e:\\anaconda3\\envs\\cudaml\\lib\\site-packages (from flair) (1.3.0)\n",
      "Requirement already satisfied: sqlitedict>=1.6.0 in e:\\anaconda3\\envs\\cudaml\\lib\\site-packages (from flair) (2.1.0)\n",
      "Requirement already satisfied: deprecated>=1.2.4 in e:\\anaconda3\\envs\\cudaml\\lib\\site-packages (from flair) (1.2.14)\n",
      "Requirement already satisfied: hyperopt>=0.2.7 in e:\\anaconda3\\envs\\cudaml\\lib\\site-packages (from flair) (0.2.7)\n",
      "Requirement already satisfied: boto3 in e:\\anaconda3\\envs\\cudaml\\lib\\site-packages (from flair) (1.28.9)\n",
      "Requirement already satisfied: transformers[sentencepiece]>=4.18.0 in e:\\anaconda3\\envs\\cudaml\\lib\\site-packages (from flair) (4.31.0)\n",
      "Requirement already satisfied: bpemb>=0.3.2 in e:\\anaconda3\\envs\\cudaml\\lib\\site-packages (from flair) (0.3.4)\n",
      "Requirement already satisfied: regex in e:\\anaconda3\\envs\\cudaml\\lib\\site-packages (from flair) (2023.6.3)\n",
      "Requirement already satisfied: tabulate in e:\\anaconda3\\envs\\cudaml\\lib\\site-packages (from flair) (0.9.0)\n",
      "Requirement already satisfied: langdetect in e:\\anaconda3\\envs\\cudaml\\lib\\site-packages (from flair) (1.0.9)\n",
      "Requirement already satisfied: lxml in e:\\anaconda3\\envs\\cudaml\\lib\\site-packages (from flair) (4.9.3)\n",
      "Requirement already satisfied: ftfy in e:\\anaconda3\\envs\\cudaml\\lib\\site-packages (from flair) (6.1.1)\n",
      "Requirement already satisfied: janome in e:\\anaconda3\\envs\\cudaml\\lib\\site-packages (from flair) (0.5.0)\n",
      "Requirement already satisfied: gdown==4.4.0 in e:\\anaconda3\\envs\\cudaml\\lib\\site-packages (from flair) (4.4.0)\n",
      "Requirement already satisfied: huggingface-hub>=0.10.0 in e:\\anaconda3\\envs\\cudaml\\lib\\site-packages (from flair) (0.16.4)\n",
      "Requirement already satisfied: conllu>=4.0 in e:\\anaconda3\\envs\\cudaml\\lib\\site-packages (from flair) (4.5.3)\n",
      "Requirement already satisfied: more-itertools in e:\\anaconda3\\envs\\cudaml\\lib\\site-packages (from flair) (9.1.0)\n",
      "Requirement already satisfied: wikipedia-api in e:\\anaconda3\\envs\\cudaml\\lib\\site-packages (from flair) (0.6.0)\n",
      "Requirement already satisfied: pptree in e:\\anaconda3\\envs\\cudaml\\lib\\site-packages (from flair) (3.1)\n",
      "Requirement already satisfied: pytorch-revgrad in e:\\anaconda3\\envs\\cudaml\\lib\\site-packages (from flair) (0.2.0)\n",
      "Requirement already satisfied: transformer-smaller-training-vocab>=0.2.1 in e:\\anaconda3\\envs\\cudaml\\lib\\site-packages (from flair) (0.2.4)\n",
      "Requirement already satisfied: filelock in e:\\anaconda3\\envs\\cudaml\\lib\\site-packages (from gdown==4.4.0->flair) (3.9.0)\n",
      "Requirement already satisfied: requests[socks] in e:\\anaconda3\\envs\\cudaml\\lib\\site-packages (from gdown==4.4.0->flair) (2.29.0)\n",
      "Requirement already satisfied: six in e:\\anaconda3\\envs\\cudaml\\lib\\site-packages (from gdown==4.4.0->flair) (1.16.0)\n",
      "Requirement already satisfied: beautifulsoup4 in e:\\anaconda3\\envs\\cudaml\\lib\\site-packages (from gdown==4.4.0->flair) (4.12.2)\n",
      "Requirement already satisfied: numpy in e:\\anaconda3\\envs\\cudaml\\lib\\site-packages (from bpemb>=0.3.2->flair) (1.25.0)\n",
      "Requirement already satisfied: sentencepiece in e:\\anaconda3\\envs\\cudaml\\lib\\site-packages (from bpemb>=0.3.2->flair) (0.1.99)\n",
      "Requirement already satisfied: wrapt<2,>=1.10 in e:\\anaconda3\\envs\\cudaml\\lib\\site-packages (from deprecated>=1.2.4->flair) (1.15.0)\n",
      "Requirement already satisfied: scipy>=1.7.0 in e:\\anaconda3\\envs\\cudaml\\lib\\site-packages (from gensim>=3.8.0->flair) (1.11.1)\n",
      "Requirement already satisfied: smart-open>=1.8.1 in e:\\anaconda3\\envs\\cudaml\\lib\\site-packages (from gensim>=3.8.0->flair) (6.3.0)\n",
      "Requirement already satisfied: fsspec in e:\\anaconda3\\envs\\cudaml\\lib\\site-packages (from huggingface-hub>=0.10.0->flair) (2023.6.0)\n",
      "Requirement already satisfied: pyyaml>=5.1 in e:\\anaconda3\\envs\\cudaml\\lib\\site-packages (from huggingface-hub>=0.10.0->flair) (6.0)\n",
      "Requirement already satisfied: typing-extensions>=3.7.4.3 in e:\\anaconda3\\envs\\cudaml\\lib\\site-packages (from huggingface-hub>=0.10.0->flair) (4.6.3)\n",
      "Requirement already satisfied: packaging>=20.9 in e:\\anaconda3\\envs\\cudaml\\lib\\site-packages (from huggingface-hub>=0.10.0->flair) (23.1)\n",
      "Requirement already satisfied: networkx>=2.2 in e:\\anaconda3\\envs\\cudaml\\lib\\site-packages (from hyperopt>=0.2.7->flair) (2.8.4)\n",
      "Requirement already satisfied: future in e:\\anaconda3\\envs\\cudaml\\lib\\site-packages (from hyperopt>=0.2.7->flair) (0.18.3)\n",
      "Requirement already satisfied: cloudpickle in e:\\anaconda3\\envs\\cudaml\\lib\\site-packages (from hyperopt>=0.2.7->flair) (2.2.1)\n",
      "Requirement already satisfied: py4j in e:\\anaconda3\\envs\\cudaml\\lib\\site-packages (from hyperopt>=0.2.7->flair) (0.10.9.7)\n",
      "Requirement already satisfied: contourpy>=1.0.1 in e:\\anaconda3\\envs\\cudaml\\lib\\site-packages (from matplotlib>=2.2.3->flair) (1.1.0)\n",
      "Requirement already satisfied: cycler>=0.10 in e:\\anaconda3\\envs\\cudaml\\lib\\site-packages (from matplotlib>=2.2.3->flair) (0.11.0)\n",
      "Requirement already satisfied: fonttools>=4.22.0 in e:\\anaconda3\\envs\\cudaml\\lib\\site-packages (from matplotlib>=2.2.3->flair) (4.40.0)\n",
      "Requirement already satisfied: kiwisolver>=1.0.1 in e:\\anaconda3\\envs\\cudaml\\lib\\site-packages (from matplotlib>=2.2.3->flair) (1.4.4)\n",
      "Requirement already satisfied: pillow>=6.2.0 in e:\\anaconda3\\envs\\cudaml\\lib\\site-packages (from matplotlib>=2.2.3->flair) (9.4.0)\n",
      "Requirement already satisfied: pyparsing<3.1,>=2.3.1 in e:\\anaconda3\\envs\\cudaml\\lib\\site-packages (from matplotlib>=2.2.3->flair) (3.0.9)\n",
      "Requirement already satisfied: importlib-resources>=3.2.0 in e:\\anaconda3\\envs\\cudaml\\lib\\site-packages (from matplotlib>=2.2.3->flair) (6.0.0)\n",
      "Requirement already satisfied: joblib>=1.1.1 in e:\\anaconda3\\envs\\cudaml\\lib\\site-packages (from scikit-learn>=0.21.3->flair) (1.3.1)\n",
      "Requirement already satisfied: threadpoolctl>=2.0.0 in e:\\anaconda3\\envs\\cudaml\\lib\\site-packages (from scikit-learn>=0.21.3->flair) (3.2.0)\n",
      "Requirement already satisfied: sympy in e:\\anaconda3\\envs\\cudaml\\lib\\site-packages (from torch!=1.8,>=1.5.0->flair) (1.11.1)\n",
      "Requirement already satisfied: jinja2 in e:\\anaconda3\\envs\\cudaml\\lib\\site-packages (from torch!=1.8,>=1.5.0->flair) (3.1.2)\n",
      "Requirement already satisfied: colorama in e:\\anaconda3\\envs\\cudaml\\lib\\site-packages (from tqdm>=4.26.0->flair) (0.4.6)\n",
      "Requirement already satisfied: datasets<3.0.0,>=2.0.0 in e:\\anaconda3\\envs\\cudaml\\lib\\site-packages (from transformer-smaller-training-vocab>=0.2.1->flair) (2.13.1)\n",
      "Requirement already satisfied: tokenizers!=0.11.3,<0.14,>=0.11.1 in e:\\anaconda3\\envs\\cudaml\\lib\\site-packages (from transformers[sentencepiece]>=4.18.0->flair) (0.13.3)\n",
      "Requirement already satisfied: safetensors>=0.3.1 in e:\\anaconda3\\envs\\cudaml\\lib\\site-packages (from transformers[sentencepiece]>=4.18.0->flair) (0.3.1)\n",
      "Requirement already satisfied: protobuf in e:\\anaconda3\\envs\\cudaml\\lib\\site-packages (from transformers[sentencepiece]>=4.18.0->flair) (3.20.3)\n",
      "Requirement already satisfied: botocore<1.32.0,>=1.31.9 in e:\\anaconda3\\envs\\cudaml\\lib\\site-packages (from boto3->flair) (1.31.9)\n",
      "Requirement already satisfied: jmespath<2.0.0,>=0.7.1 in e:\\anaconda3\\envs\\cudaml\\lib\\site-packages (from boto3->flair) (1.0.1)\n",
      "Requirement already satisfied: s3transfer<0.7.0,>=0.6.0 in e:\\anaconda3\\envs\\cudaml\\lib\\site-packages (from boto3->flair) (0.6.1)\n",
      "Requirement already satisfied: wcwidth>=0.2.5 in e:\\anaconda3\\envs\\cudaml\\lib\\site-packages (from ftfy->flair) (0.2.6)\n",
      "Requirement already satisfied: urllib3<1.27,>=1.25.4 in e:\\anaconda3\\envs\\cudaml\\lib\\site-packages (from botocore<1.32.0,>=1.31.9->boto3->flair) (1.26.16)\n",
      "Requirement already satisfied: pyarrow>=8.0.0 in e:\\anaconda3\\envs\\cudaml\\lib\\site-packages (from datasets<3.0.0,>=2.0.0->transformer-smaller-training-vocab>=0.2.1->flair) (11.0.0)\n",
      "Requirement already satisfied: dill<0.3.7,>=0.3.0 in e:\\anaconda3\\envs\\cudaml\\lib\\site-packages (from datasets<3.0.0,>=2.0.0->transformer-smaller-training-vocab>=0.2.1->flair) (0.3.6)\n",
      "Requirement already satisfied: pandas in e:\\anaconda3\\envs\\cudaml\\lib\\site-packages (from datasets<3.0.0,>=2.0.0->transformer-smaller-training-vocab>=0.2.1->flair) (1.5.3)\n",
      "Requirement already satisfied: xxhash in e:\\anaconda3\\envs\\cudaml\\lib\\site-packages (from datasets<3.0.0,>=2.0.0->transformer-smaller-training-vocab>=0.2.1->flair) (3.2.0)\n",
      "Requirement already satisfied: multiprocess in e:\\anaconda3\\envs\\cudaml\\lib\\site-packages (from datasets<3.0.0,>=2.0.0->transformer-smaller-training-vocab>=0.2.1->flair) (0.70.14)\n",
      "Requirement already satisfied: aiohttp in e:\\anaconda3\\envs\\cudaml\\lib\\site-packages (from datasets<3.0.0,>=2.0.0->transformer-smaller-training-vocab>=0.2.1->flair) (3.8.5)\n",
      "Requirement already satisfied: zipp>=3.1.0 in e:\\anaconda3\\envs\\cudaml\\lib\\site-packages (from importlib-resources>=3.2.0->matplotlib>=2.2.3->flair) (3.16.0)\n",
      "Requirement already satisfied: charset-normalizer<4,>=2 in e:\\anaconda3\\envs\\cudaml\\lib\\site-packages (from requests[socks]->gdown==4.4.0->flair) (2.0.4)\n",
      "Requirement already satisfied: idna<4,>=2.5 in e:\\anaconda3\\envs\\cudaml\\lib\\site-packages (from requests[socks]->gdown==4.4.0->flair) (3.4)\n",
      "Requirement already satisfied: certifi>=2017.4.17 in e:\\anaconda3\\envs\\cudaml\\lib\\site-packages (from requests[socks]->gdown==4.4.0->flair) (2023.5.7)\n",
      "Requirement already satisfied: accelerate>=0.20.3 in e:\\anaconda3\\envs\\cudaml\\lib\\site-packages (from transformers[sentencepiece]>=4.18.0->flair) (0.21.0)\n",
      "Requirement already satisfied: soupsieve>1.2 in e:\\anaconda3\\envs\\cudaml\\lib\\site-packages (from beautifulsoup4->gdown==4.4.0->flair) (2.4.1)\n",
      "Requirement already satisfied: MarkupSafe>=2.0 in e:\\anaconda3\\envs\\cudaml\\lib\\site-packages (from jinja2->torch!=1.8,>=1.5.0->flair) (2.1.1)\n",
      "Requirement already satisfied: PySocks!=1.5.7,>=1.5.6 in e:\\anaconda3\\envs\\cudaml\\lib\\site-packages (from requests[socks]->gdown==4.4.0->flair) (1.7.1)\n",
      "Requirement already satisfied: mpmath>=0.19 in e:\\anaconda3\\envs\\cudaml\\lib\\site-packages (from sympy->torch!=1.8,>=1.5.0->flair) (1.2.1)\n",
      "Requirement already satisfied: psutil in e:\\anaconda3\\envs\\cudaml\\lib\\site-packages (from accelerate>=0.20.3->transformers[sentencepiece]>=4.18.0->flair) (5.9.0)\n",
      "Requirement already satisfied: attrs>=17.3.0 in e:\\anaconda3\\envs\\cudaml\\lib\\site-packages (from aiohttp->datasets<3.0.0,>=2.0.0->transformer-smaller-training-vocab>=0.2.1->flair) (22.1.0)\n",
      "Requirement already satisfied: multidict<7.0,>=4.5 in e:\\anaconda3\\envs\\cudaml\\lib\\site-packages (from aiohttp->datasets<3.0.0,>=2.0.0->transformer-smaller-training-vocab>=0.2.1->flair) (6.0.4)\n",
      "Requirement already satisfied: async-timeout<5.0,>=4.0.0a3 in e:\\anaconda3\\envs\\cudaml\\lib\\site-packages (from aiohttp->datasets<3.0.0,>=2.0.0->transformer-smaller-training-vocab>=0.2.1->flair) (4.0.2)\n",
      "Requirement already satisfied: yarl<2.0,>=1.0 in e:\\anaconda3\\envs\\cudaml\\lib\\site-packages (from aiohttp->datasets<3.0.0,>=2.0.0->transformer-smaller-training-vocab>=0.2.1->flair) (1.9.2)\n",
      "Requirement already satisfied: frozenlist>=1.1.1 in e:\\anaconda3\\envs\\cudaml\\lib\\site-packages (from aiohttp->datasets<3.0.0,>=2.0.0->transformer-smaller-training-vocab>=0.2.1->flair) (1.4.0)\n",
      "Requirement already satisfied: aiosignal>=1.1.2 in e:\\anaconda3\\envs\\cudaml\\lib\\site-packages (from aiohttp->datasets<3.0.0,>=2.0.0->transformer-smaller-training-vocab>=0.2.1->flair) (1.3.1)\n",
      "Requirement already satisfied: pytz>=2020.1 in e:\\anaconda3\\envs\\cudaml\\lib\\site-packages (from pandas->datasets<3.0.0,>=2.0.0->transformer-smaller-training-vocab>=0.2.1->flair) (2022.7)\n"
     ]
    }
   ],
   "source": [
    "!pip install flair"
   ]
  },
  {
   "cell_type": "markdown",
   "metadata": {},
   "source": [
    "### Sentiment Analysis\n",
    "1. Initialize model\n",
    "2. Tokenize\n",
    "3. Process with model\n",
    "4. Format Outputs"
   ]
  },
  {
   "cell_type": "code",
   "execution_count": 3,
   "metadata": {},
   "outputs": [],
   "source": [
    "# 1. Initialize\n",
    "import flair\n",
    "model = flair.models.TextClassifier.load('en-sentiment')"
   ]
  },
  {
   "cell_type": "code",
   "execution_count": 8,
   "metadata": {},
   "outputs": [
    {
     "data": {
      "text/plain": [
       "'I like you !'"
      ]
     },
     "execution_count": 8,
     "metadata": {},
     "output_type": "execute_result"
    }
   ],
   "source": [
    "# Tokenize\n",
    "text = 'I like you!'\n",
    "sentence = flair.data.Sentence(text)\n",
    "sentence.to_tokenized_string()"
   ]
  },
  {
   "cell_type": "code",
   "execution_count": 9,
   "metadata": {},
   "outputs": [],
   "source": [
    "# Process with model\n",
    "model.predict(sentence)"
   ]
  },
  {
   "cell_type": "code",
   "execution_count": 10,
   "metadata": {},
   "outputs": [
    {
     "data": {
      "text/plain": [
       "Sentence[4]: \"I like you!\" → POSITIVE (0.9928)"
      ]
     },
     "execution_count": 10,
     "metadata": {},
     "output_type": "execute_result"
    }
   ],
   "source": [
    "sentence"
   ]
  },
  {
   "cell_type": "code",
   "execution_count": 18,
   "metadata": {},
   "outputs": [
    {
     "data": {
      "text/plain": [
       "0.9992989301681519"
      ]
     },
     "execution_count": 18,
     "metadata": {},
     "output_type": "execute_result"
    }
   ],
   "source": [
    "text = \"I hate Oppenheimer!\"\n",
    "sentence = flair.data.Sentence(text)\n",
    "model.predict(sentence)\n",
    "sentence.get_labels()[0].score\n"
   ]
  },
  {
   "cell_type": "code",
   "execution_count": 19,
   "metadata": {},
   "outputs": [
    {
     "data": {
      "text/plain": [
       "'NEGATIVE'"
      ]
     },
     "execution_count": 19,
     "metadata": {},
     "output_type": "execute_result"
    }
   ],
   "source": [
    "sentence.get_labels()[0].value"
   ]
  },
  {
   "cell_type": "code",
   "execution_count": 7,
   "metadata": {},
   "outputs": [],
   "source": [
    "sentences = ['To Drive A Car, You Need A License.',\n",
    "'She Advised Him To See A Lawyer, So He Did.',\n",
    "'I Don\\'t Want To Fail The Test.',\n",
    "'There Is Always A Next Time.',\n",
    "'I hate Dinner.',\n",
    "'Tom Got Angry At The Children.'\n",
    "'Oh, How I\\'d Love To Go!',\n",
    "'We All Agreed; It Was A Magnificent Evening.'\n",
    "]"
   ]
  },
  {
   "cell_type": "code",
   "execution_count": 5,
   "metadata": {},
   "outputs": [],
   "source": [
    "def getSentiment(text):\n",
    "    sentence = flair.data.Sentence(text)\n",
    "    model.predict(sentence)\n",
    "    value = sentence.get_labels()[0].value\n",
    "    score = sentence.get_labels()[0].score\n",
    "    return [value,score]\n",
    "    "
   ]
  },
  {
   "cell_type": "code",
   "execution_count": 8,
   "metadata": {},
   "outputs": [
    {
     "name": "stdout",
     "output_type": "stream",
     "text": [
      "To Drive A Car, You Need A License. is POSITIVE with score 0.9481947422027588\n",
      "She Advised Him To See A Lawyer, So He Did. is POSITIVE with score 0.7825323343276978\n",
      "I Don't Want To Fail The Test. is POSITIVE with score 0.8242281675338745\n",
      "There Is Always A Next Time. is POSITIVE with score 0.6458271741867065\n",
      "I hate Dinner. is NEGATIVE with score 0.9951457381248474\n",
      "Tom Got Angry At The Children.Oh, How I'd Love To Go! is POSITIVE with score 0.983767032623291\n",
      "We All Agreed; It Was A Magnificent Evening. is POSITIVE with score 0.9985449314117432\n"
     ]
    }
   ],
   "source": [
    "for sentence in sentences:\n",
    "    sentiment = getSentiment(sentence)\n",
    "    print(f\"{sentence} is {sentiment[0]} with score {sentiment[1]}\")"
   ]
  }
 ],
 "metadata": {
  "kernelspec": {
   "display_name": "cudaml",
   "language": "python",
   "name": "python3"
  },
  "language_info": {
   "codemirror_mode": {
    "name": "ipython",
    "version": 3
   },
   "file_extension": ".py",
   "mimetype": "text/x-python",
   "name": "python",
   "nbconvert_exporter": "python",
   "pygments_lexer": "ipython3",
   "version": "3.9.17"
  },
  "orig_nbformat": 4
 },
 "nbformat": 4,
 "nbformat_minor": 2
}
